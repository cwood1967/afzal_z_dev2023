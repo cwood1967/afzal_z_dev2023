{
 "cells": [
  {
   "cell_type": "code",
   "execution_count": null,
   "metadata": {
    "collapsed": false
   },
   "outputs": [],
   "source": [
    "import io\n",
    "\n",
    "import pandas as pd\n",
    "import numpy as np\n",
    "\n",
    "from scipy.spatial.distance import cdist \n",
    "\n",
    "import utils"
   ]
  },
  {
   "attachments": {},
   "cell_type": "markdown",
   "metadata": {},
   "source": [
    "## Notes\n",
    "\n",
    "- Channel 1:  b9 density of spots\n",
    "- Channel 2:  b1 density of spots\n",
    "- Channel 3:  b4 density of spots\n",
    "- Channel 4:  b9-b1 colocalization density of spots\n",
    "- Channel 5:  b1-b4 colocalization density of spots\n",
    "- Channel 6:  b9-b4 colocalization density of spots\n",
    "- Channel 7:  b9-b1-b4 colocalization density of spots\n",
    " \n",
    " \n",
    " \n",
    "If something is in channel 7, it should show up only in channel 7, and not show up in any other channel (and right now, it shows up in all other channels, because if a spot has all three things, then by definition it also has each combination of 2, and each single channel).\n",
    "\n",
    "If something is in channel 6, it should show up only in 6, and be subtracted from showing up in channels 1 and 3.\n",
    "\n",
    "If something is in channel 5, it should show up only in 5, and be subtracted from spots in channels 2 and 3.\n",
    "\n",
    "If something is in channel 4, it should show up only in 4, and be subtracted from spots in channels 1 and 2.\n",
    "\n",
    "Then spots left over should show up in either channel 1,2, or 3."
   ]
  },
  {
   "cell_type": "markdown",
   "metadata": {},
   "source": [
    "## CSV File\n",
    "Type the path to the csv file you want to analyze between the quotes after filename =\n"
   ]
  },
  {
   "cell_type": "code",
   "execution_count": null,
   "metadata": {
    "collapsed": false,
    "scrolled": true
   },
   "outputs": [],
   "source": [
    "csvfile = '/path/to/file.csv'\n",
    "df = pd.read_csv(csvfile)\n",
    "df['display'] = len(df)*[1]\n",
    "df.tail()"
   ]
  },
  {
   "cell_type": "code",
   "execution_count": null,
   "metadata": {
    "collapsed": false
   },
   "outputs": [],
   "source": [
    "# convert x, y to integers for pixel coordinates\n",
    "df['xi'] = df['X'].astype(np.int32)\n",
    "df['yi'] = df['Y'].astype(np.int32)\n",
    "\n",
    "# create the output image\n",
    "### Doing this to get the max x and y to create image dimensions\n",
    "dx = np.ceil(df['X'].max()) #+ 25\n",
    "dy = np.ceil(df['Y'].max()) #+ 25\n",
    "dx = dx.astype(np.int32)\n",
    "dy = dy.astype(np.int32)\n",
    "\n"
   ]
  },
  {
   "cell_type": "code",
   "execution_count": null,
   "metadata": {
    "collapsed": false
   },
   "outputs": [],
   "source": [
    "#Group different channels\n",
    "gdf = df.groupby('Ch')\n",
    "\n",
    "#create a dictionary of channels\n",
    "dfdict = {i: gdf.get_group(i).reset_index() for i in df.Ch.unique()}\n",
    "\n",
    "array_dict = {ch : utils.coord_array(dfdict, ch) for ch in dfdict.keys()}"
   ]
  },
  {
   "cell_type": "code",
   "execution_count": null,
   "metadata": {
    "collapsed": true
   },
   "outputs": [],
   "source": [
    "### do channel 7\n",
    "min_distances = utils.min_distances\n",
    "d71_near, _ = min_distances(array_dict[7], array_dict[1])\n",
    "d72_near, _ = min_distances(array_dict[7], array_dict[2])\n",
    "d73_near, _ = min_distances(array_dict[7], array_dict[3])\n",
    "\n",
    "dfdict[1].loc[d71_near, 'display'] = 0\n",
    "dfdict[2].loc[d72_near, 'display'] = 0\n",
    "dfdict[3].loc[d73_near, 'display'] = 0\n",
    "\n",
    "\n",
    "### do channel 6- combo of 1 and 3\n",
    "d61_near, _ = min_distances(array_dict[6], array_dict[1])\n",
    "d63_near, _ = min_distances(array_dict[6], array_dict[3])\n",
    "\n",
    "dfdict[1].loc[d61_near, 'display'] = 0\n",
    "dfdict[3].loc[d63_near, 'display'] = 0\n",
    "\n",
    "### do channel 5 - combo of 2 and 3\n",
    "d52_near, _ = min_distances(array_dict[5], array_dict[2])\n",
    "d53_near, _ = min_distances(array_dict[5], array_dict[3])\n",
    "\n",
    "dfdict[2].loc[d52_near, 'display'] = 0\n",
    "dfdict[3].loc[d53_near, 'display'] = 0\n",
    "\n",
    "### do channel 4 - combo of 1, and 2\n",
    "d41_near, _ = min_distances(array_dict[4], array_dict[1])\n",
    "d42_near, _ = min_distances(array_dict[4], array_dict[2])\n",
    "\n",
    "dfdict[1].loc[d41_near, 'display'] = 0\n",
    "dfdict[2].loc[d42_near, 'display'] = 0\n",
    "\n",
    "'''\n",
    "For channels 4,5,6, and 7 - go from 4 to 7 and find the closest\n",
    "from each spot and turn it off\n",
    "\n",
    "Cross of the above - if its in channel seven, remove it from the others\n",
    "'''\n",
    "### do channel 7 - combo of 6, and 5, and 4\n",
    "d74_near, d74_dist = min_distances(array_dict[7], array_dict[4])\n",
    "d75_near, d75_dist = min_distances(array_dict[7], array_dict[5])\n",
    "d76_near, d76_dist = min_distances(array_dict[7], array_dict[6])\n",
    "\n",
    "dfdict[4].loc[d74_near, 'display'] = 0\n",
    "dfdict[5].loc[d75_near, 'display'] = 0\n",
    "dfdict[6].loc[d76_near, 'display'] = 0\n"
   ]
  },
  {
   "cell_type": "code",
   "execution_count": null,
   "metadata": {
    "collapsed": false
   },
   "outputs": [],
   "source": [
    "set_channel_pixels = utils.set_channel_pixels\n",
    "g = np.zeros((dy, dx, 7), dtype=np.float32)\n",
    "set_channel_pixels(dfdict[7], 7, g)\n",
    "set_channel_pixels(dfdict[6], 6, g)\n",
    "set_channel_pixels(dfdict[5], 5, g)\n",
    "set_channel_pixels(dfdict[4], 4, g)\n",
    "set_channel_pixels(dfdict[1], 1, g, display=1)\n",
    "set_channel_pixels(dfdict[2], 2, g, display=1)\n",
    "set_channel_pixels(dfdict[3], 3, g, display=1)\n",
    "\n",
    "g = (g - g.min())/(g.max() - g.min())"
   ]
  },
  {
   "cell_type": "markdown",
   "metadata": {},
   "source": [
    "### If you know the image size, you can enter it below before saving\n",
    "Replace `dx` and `dy` below with the actual image width and height"
   ]
  },
  {
   "cell_type": "code",
   "execution_count": null,
   "metadata": {
    "collapsed": false
   },
   "outputs": [],
   "source": [
    "import tifffile\n",
    "image_size_x = 2048\n",
    "image_size_y = 2044\n",
    "\n",
    "g_resized = np.zeros((image_size_y, image_size_x, g.shape[-1]), dtype=np.float32)\n",
    "g_resized[0:dy, 0:dx, :] = g\n",
    "gw = np.moveaxis(g_resized, -1, 0).astype(np.float32)\n",
    "tifffile.imwrite(\"//n/core/micro/rek/zaf/20201222_3PO_F1wt-Hobbit647-Blinc555-b4atto488/PROCESSED/measurements/CJW_spots/Tail2_3rdRow-CJWspots.tif\",\n",
    "                 gw, imagej=True)"
   ]
  },
  {
   "cell_type": "code",
   "execution_count": null,
   "metadata": {
    "collapsed": false
   },
   "outputs": [],
   "source": []
  },
  {
   "cell_type": "code",
   "execution_count": null,
   "metadata": {
    "collapsed": true
   },
   "outputs": [],
   "source": [
    "\n"
   ]
  }
 ],
 "metadata": {
  "kernelspec": {
   "display_name": "3.7 conda base",
   "language": "python",
   "name": "base"
  },
  "language_info": {
   "codemirror_mode": {
    "name": "ipython",
    "version": 3
   },
   "file_extension": ".py",
   "mimetype": "text/x-python",
   "name": "python",
   "nbconvert_exporter": "python",
   "pygments_lexer": "ipython3",
   "version": "3.7.1"
  }
 },
 "nbformat": 4,
 "nbformat_minor": 2
}
